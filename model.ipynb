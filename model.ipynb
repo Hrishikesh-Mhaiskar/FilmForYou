{
 "cells": [
  {
   "cell_type": "code",
   "execution_count": 46,
   "metadata": {},
   "outputs": [],
   "source": [
    "import pandas as pd\n",
    "import numpy as np\n",
    "import matplotlib.pyplot as plt\n",
    "from sklearn.preprocessing import StandardScaler, MultiLabelBinarizer\n",
    "from sklearn.model_selection import train_test_split\n",
    "from scipy.spatial import distance\n"
   ]
  },
  {
   "cell_type": "code",
   "execution_count": 47,
   "metadata": {},
   "outputs": [],
   "source": [
    "dataset = pd.read_csv('merged_title_data_copy.csv', low_memory=False).head(4000)\n",
    "\n",
    "dataset['runtimeMinutes'] = pd.to_numeric(dataset['runtimeMinutes'], errors='coerce')\n",
    "dataset_cleaned = dataset.dropna(subset=['runtimeMinutes', 'averageRating', 'numVotes'])\n",
    "dataset_cleaned = dataset_cleaned.drop_duplicates(subset=['tconst', 'primaryTitle']).dropna(subset=['tconst', 'primaryTitle'])"
   ]
  },
  {
   "cell_type": "code",
   "execution_count": 48,
   "metadata": {},
   "outputs": [],
   "source": [
    "# One-hot encoding\n",
    "title_encoded = pd.get_dummies(dataset_cleaned['titleType'], prefix='type')\n",
    "\n",
    "# Fit and apply scalers on relevant columns\n",
    "sc_runtime = StandardScaler().fit(dataset_cleaned['runtimeMinutes'].values.reshape(-1, 1))\n",
    "sc_avgRating = StandardScaler().fit(dataset_cleaned['averageRating'].values.reshape(-1, 1))\n",
    "sc_numVotes = StandardScaler().fit(dataset_cleaned['numVotes'].values.reshape(-1, 1))\n",
    "\n",
    "dataset_cleaned['runtimeMinutes_normalized'] = sc_runtime.transform(dataset_cleaned['runtimeMinutes'].values.reshape(-1, 1))\n",
    "\n",
    "# Split genres and apply MultiLabelBinarizer\n",
    "X_genres = dataset_cleaned['genres'].str.split(',')\n",
    "mlb = MultiLabelBinarizer()\n",
    "genre_encoded = pd.DataFrame(mlb.fit_transform(X_genres), columns=mlb.classes_, index=dataset_cleaned.index)\n",
    "\n",
    "# Drop the original 'genres' column and concatenate scaled features\n",
    "dataset_cleaned = dataset_cleaned.drop(['genres'], axis=1)\n",
    "X_encoded = pd.concat([dataset_cleaned, title_encoded, genre_encoded], axis=1)\n",
    "y = X_encoded['primaryTitle']\n"
   ]
  },
  {
   "cell_type": "code",
   "execution_count": 49,
   "metadata": {},
   "outputs": [],
   "source": [
    "columns_to_drop = ['tconst', 'primaryTitle', 'titleType', 'startYear', 'averageRating', 'runtimeMinutes', 'numVotes']\n",
    "columns_to_drop = [col for col in columns_to_drop if col in X_encoded.columns]\n",
    "X_encoded_final = X_encoded.drop(columns=columns_to_drop, axis=1)"
   ]
  },
  {
   "cell_type": "code",
   "execution_count": 50,
   "metadata": {},
   "outputs": [],
   "source": [
    "X = X_encoded_final\n",
    "y = X_encoded['primaryTitle']\n",
    "X_features = X_encoded_final.values\n",
    "X_train, X_test, y_train, y_test = train_test_split(X, y, test_size=0.2, random_state=0)"
   ]
  },
  {
   "cell_type": "code",
   "execution_count": 51,
   "metadata": {},
   "outputs": [],
   "source": [
    "def create_input_vector(preferred_genres, preferred_runtime, isAdult, title_types):\n",
    "    input_genres_encoded = pd.DataFrame(mlb.transform([preferred_genres]), columns=mlb.classes_) * 8\n",
    "    runtime_normalized = sc_runtime.transform([[preferred_runtime]])\n",
    "    input_vector = np.concatenate([input_genres_encoded.values.flatten(), runtime_normalized.flatten(), np.array([[isAdult]]).flatten(), title_types])\n",
    "    print(\"Input vector shape:\", input_vector.shape)\n",
    "    return input_vector"
   ]
  },
  {
   "cell_type": "code",
   "execution_count": 52,
   "metadata": {},
   "outputs": [],
   "source": [
    "title_types = [\n",
    "    1 if title_type == 'movie' else 0 for title_type in \n",
    "    ['movie', 'tvMiniSeries', 'tvMovie', 'tvSeries', 'tvSpecial']\n",
    "]\n",
    "\n",
    "\n",
    "from scipy.spatial import distance\n",
    "\n",
    "def get_closest_movies(input_vector, movie_vectors, movie_titles, top_n=200):\n",
    "    distances = []\n",
    "\n",
    "    for index, movie_vector in enumerate(movie_vectors):\n",
    "        dist = distance.euclidean(input_vector, movie_vector)\n",
    "        distances.append((dist, movie_titles.iloc[index]))\n",
    "\n",
    "    distances = sorted(distances, key=lambda x: x[0])\n",
    "\n",
    "    # Get the top N movies\n",
    "    top_movies = [title for _, title in distances[:top_n]]\n",
    "    return top_movies"
   ]
  },
  {
   "cell_type": "code",
   "execution_count": 53,
   "metadata": {},
   "outputs": [],
   "source": [
    "def rank_recommendations(recommendations, dataset_cleaned):\n",
    "    valid_recommendations = [title for title in recommendations if title in dataset_cleaned['primaryTitle'].values]\n",
    "    \n",
    "    if not valid_recommendations:\n",
    "        return []\n",
    "\n",
    "    # Filter dataset_cleaned to only keep the valid recommendations\n",
    "    recommended_movies_df = dataset_cleaned[dataset_cleaned['primaryTitle'].isin(valid_recommendations)]\n",
    "\n",
    "    recommended_movies_df = recommended_movies_df.drop_duplicates(subset=['tconst', 'primaryTitle'])\n",
    "    ranked_movies = recommended_movies_df.sort_values(by=['averageRating', 'numVotes'], ascending=[False, False])\n",
    "\n",
    "    # Select the top 20 recommendations\n",
    "    top_movies = ranked_movies.head(20)['primaryTitle'].tolist()\n",
    "\n",
    "    return top_movies\n",
    "\n"
   ]
  },
  {
   "cell_type": "code",
   "execution_count": 54,
   "metadata": {},
   "outputs": [
    {
     "name": "stdout",
     "output_type": "stream",
     "text": [
      "Input vector shape: (32,)\n",
      "Top ranked movie recommendations: ['The Shawshank Redemption', 'The Godfather', 'The Dark Knight', 'The Lord of the Rings: The Return of the King', \"Schindler's List\", 'The Godfather Part II', 'Pulp Fiction', 'The Lord of the Rings: The Fellowship of the Ring', '12th Fail', 'Inception', 'Fight Club', 'Forrest Gump', 'The Lord of the Rings: The Two Towers', 'The Good, the Bad and the Ugly', 'Interstellar', 'The Matrix', 'Goodfellas', \"One Flew Over the Cuckoo's Nest\", 'Jai Bhim', 'Soorarai Pottru']\n"
     ]
    }
   ],
   "source": [
    "preferred_genres = ['Action', 'Adventure']\n",
    "preferred_runtime = 136\n",
    "isAdult = 0 \n",
    "title_types = [1, 0, 0, 0, 0] \n",
    "\n",
    "# Create the input test vector\n",
    "input_vector = create_input_vector(preferred_genres, preferred_runtime, isAdult, title_types)\n",
    "\n",
    "# Get the top 200 movie recommendations\n",
    "recommended_movies = get_closest_movies(input_vector, X_features, X_encoded['primaryTitle'], top_n=500)\n",
    "ranked_movies = rank_recommendations(recommended_movies, dataset_cleaned)\n",
    "\n",
    "print(\"Top ranked movie recommendations:\", ranked_movies)\n",
    "\n"
   ]
  }
 ],
 "metadata": {
  "kernelspec": {
   "display_name": "base",
   "language": "python",
   "name": "python3"
  },
  "language_info": {
   "codemirror_mode": {
    "name": "ipython",
    "version": 3
   },
   "file_extension": ".py",
   "mimetype": "text/x-python",
   "name": "python",
   "nbconvert_exporter": "python",
   "pygments_lexer": "ipython3",
   "version": "3.11.5"
  }
 },
 "nbformat": 4,
 "nbformat_minor": 2
}
